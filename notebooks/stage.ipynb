{
 "cells": [
  {
   "cell_type": "code",
   "execution_count": 1,
   "metadata": {},
   "outputs": [],
   "source": [
    "import numpy as np\n",
    "import sys\n",
    "from tqdm import tqdm\n",
    "sys.path.append('../src')\n",
    "from models import RandomFarm, VicsekFarm\n",
    "from util import grab_plot, plot, VideoWriter"
   ]
  },
  {
   "cell_type": "code",
   "execution_count": 2,
   "metadata": {},
   "outputs": [],
   "source": [
    "CANVAS_SIZE = 500\n",
    "\n",
    "def record(filename, n_steps=500, ant_opacity=.15, fade=25):\n",
    "    global farm, x, v\n",
    "\n",
    "    with VideoWriter(filename=filename, size=CANVAS_SIZE) as vid:\n",
    "        for i in tqdm(range(n_steps), desc='Ant Farm'):\n",
    "            opacity = ant_opacity*(i/fade) if i < fade else ant_opacity*((n_steps - i)/fade) if i > n_steps - fade else ant_opacity\n",
    "            plot(x, farm_color='#1b1f22', ant_color='white', ant_opacity=opacity)\n",
    "            vid.write(grab_plot())\n",
    "            x, v = farm(x, v)"
   ]
  },
  {
   "cell_type": "code",
   "execution_count": 3,
   "metadata": {},
   "outputs": [
    {
     "name": "stderr",
     "output_type": "stream",
     "text": [
      "Ant Farm: 100%|██████████| 500/500 [00:16<00:00, 29.91it/s]\n"
     ]
    },
    {
     "data": {
      "text/plain": [
       "<Figure size 640x480 with 0 Axes>"
      ]
     },
     "metadata": {},
     "output_type": "display_data"
    }
   ],
   "source": [
    "N_ANTS = 250\n",
    "N_STEPS = 500\n",
    "\n",
    "farm = RandomFarm()\n",
    "x = np.random.rand(N_ANTS, 2)*CANVAS_SIZE\n",
    "v = 2*np.pi*np.random.rand(N_ANTS, 1)\n",
    "\n",
    "record('../output/random.mp4', N_STEPS)"
   ]
  },
  {
   "cell_type": "code",
   "execution_count": 4,
   "metadata": {},
   "outputs": [
    {
     "name": "stderr",
     "output_type": "stream",
     "text": [
      "Ant Farm: 100%|██████████| 500/500 [00:18<00:00, 27.65it/s]\n"
     ]
    },
    {
     "data": {
      "text/plain": [
       "<Figure size 640x480 with 0 Axes>"
      ]
     },
     "metadata": {},
     "output_type": "display_data"
    }
   ],
   "source": [
    "N_ANTS = 250\n",
    "N_STEPS = 500\n",
    "\n",
    "farm = VicsekFarm()\n",
    "x = np.random.rand(N_ANTS, 2)*CANVAS_SIZE\n",
    "v = 2*np.pi*np.random.rand(N_ANTS, 1)\n",
    "\n",
    "record('../output/vicsek.mp4', N_STEPS)"
   ]
  },
  {
   "cell_type": "code",
   "execution_count": null,
   "metadata": {},
   "outputs": [],
   "source": []
  }
 ],
 "metadata": {
  "kernelspec": {
   "display_name": "env",
   "language": "python",
   "name": "python3"
  },
  "language_info": {
   "codemirror_mode": {
    "name": "ipython",
    "version": 3
   },
   "file_extension": ".py",
   "mimetype": "text/x-python",
   "name": "python",
   "nbconvert_exporter": "python",
   "pygments_lexer": "ipython3",
   "version": "3.10.7"
  }
 },
 "nbformat": 4,
 "nbformat_minor": 2
}
