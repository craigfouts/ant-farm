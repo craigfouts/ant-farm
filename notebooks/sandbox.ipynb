{
 "cells": [
  {
   "cell_type": "code",
   "execution_count": 1,
   "metadata": {},
   "outputs": [],
   "source": [
    "import numpy as np\n",
    "import sys\n",
    "from functools import partial\n",
    "from ipycanvas import hold_canvas, Canvas\n",
    "from tqdm import tqdm\n",
    "\n",
    "sys.path.append('../src')\n",
    "from models import Vicsek\n",
    "from util import draw, grab_plot, plot, RunTime, VideoWriter"
   ]
  },
  {
   "cell_type": "code",
   "execution_count": 7,
   "metadata": {},
   "outputs": [],
   "source": [
    "CANVAS_SIZE = 500\n",
    "FARM_COLOR = '#1b1f22'\n",
    "ANT_COLOR = 'red'\n",
    "ANT_SIZE = 3.\n",
    "\n",
    "def update():\n",
    "    global model, canvas, x, v\n",
    "    \n",
    "    x, v = model(x, v)\n",
    "    draw(x, canvas, CANVAS_SIZE, FARM_COLOR, ANT_COLOR, ANT_SIZE)\n",
    "\n",
    "def toggle(*_):\n",
    "    global runtime\n",
    "\n",
    "    if runtime.running:\n",
    "        runtime.stop()\n",
    "    else:\n",
    "        runtime.start()\n",
    "\n",
    "def start(function, interval=.02):\n",
    "    global runtime\n",
    "\n",
    "    try:\n",
    "        runtime.stop()\n",
    "    except:\n",
    "        pass\n",
    "\n",
    "    runtime = RunTime(function, interval)"
   ]
  },
  {
   "cell_type": "code",
   "execution_count": 8,
   "metadata": {},
   "outputs": [
    {
     "data": {
      "application/vnd.jupyter.widget-view+json": {
       "model_id": "5028d3c7764745679ee0b227f832343a",
       "version_major": 2,
       "version_minor": 0
      },
      "text/plain": [
       "Canvas(width=500)"
      ]
     },
     "metadata": {},
     "output_type": "display_data"
    }
   ],
   "source": [
    "N_ANTS = 100\n",
    "PROXIMITY = 20.\n",
    "VELOCITY = 2.5\n",
    "UPDATE_RATE = 1.\n",
    "VARIANCE = .3\n",
    "\n",
    "x = np.random.rand(N_ANTS, 2)*CANVAS_SIZE\n",
    "v = 2*np.pi*np.random.rand(N_ANTS, 1)\n",
    "model = Vicsek(PROXIMITY, VELOCITY, UPDATE_RATE, VARIANCE, CANVAS_SIZE)\n",
    "canvas = Canvas(width=CANVAS_SIZE, height=CANVAS_SIZE)\n",
    "canvas.on_mouse_down(toggle)\n",
    "\n",
    "display(canvas)\n",
    "draw(x, canvas, CANVAS_SIZE, FARM_COLOR, ANT_COLOR, ANT_SIZE)\n",
    "start(update)"
   ]
  },
  {
   "cell_type": "code",
   "execution_count": null,
   "metadata": {},
   "outputs": [],
   "source": []
  }
 ],
 "metadata": {
  "kernelspec": {
   "display_name": "env",
   "language": "python",
   "name": "python3"
  },
  "language_info": {
   "codemirror_mode": {
    "name": "ipython",
    "version": 3
   },
   "file_extension": ".py",
   "mimetype": "text/x-python",
   "name": "python",
   "nbconvert_exporter": "python",
   "pygments_lexer": "ipython3",
   "version": "3.11.6"
  }
 },
 "nbformat": 4,
 "nbformat_minor": 2
}
