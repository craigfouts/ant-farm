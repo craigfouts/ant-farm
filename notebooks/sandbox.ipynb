{
 "cells": [
  {
   "cell_type": "code",
   "execution_count": 1,
   "metadata": {},
   "outputs": [],
   "source": [
    "import numpy as np\n",
    "import sys\n",
    "from tqdm import tqdm\n",
    "\n",
    "sys.path.append('../src')\n",
    "from models import Vicsek\n",
    "from util import grab_plot, plot, VideoWriter"
   ]
  },
  {
   "cell_type": "code",
   "execution_count": 6,
   "metadata": {},
   "outputs": [
    {
     "name": "stderr",
     "output_type": "stream",
     "text": [
      "Ant Farm: 100%|██████████| 500/500 [00:08<00:00, 56.94it/s]\n"
     ]
    },
    {
     "data": {
      "text/html": [
       "<video src=\"_autoplay.mp4\" controls  width=\"500\"  height=\"500\">\n",
       "      Your browser does not support the <code>video</code> element.\n",
       "    </video>"
      ],
      "text/plain": [
       "<IPython.core.display.Video object>"
      ]
     },
     "metadata": {},
     "output_type": "display_data"
    },
    {
     "data": {
      "text/plain": [
       "<Figure size 640x480 with 0 Axes>"
      ]
     },
     "metadata": {},
     "output_type": "display_data"
    }
   ],
   "source": [
    "N_ANTS = 100\n",
    "PROXIMITY = 20.\n",
    "VELOCITY = 2.5\n",
    "UPDATE_RATE = 1.\n",
    "VARIANCE = .3\n",
    "WINDOW_SIZE = 500\n",
    "ANT_SIZE = 10.\n",
    "ANT_COLOR = 'white'\n",
    "ANT_OPACITY = .15\n",
    "FARM_COLOR = '#1b1f22'\n",
    "N_STEPS = 500\n",
    "FILENAME = '_autoplay.mp4'\n",
    "FRAME_RATE = 30.\n",
    "FADE = 25\n",
    "\n",
    "x = np.random.rand(N_ANTS, 2)*WINDOW_SIZE\n",
    "v = 2*np.pi*np.random.rand(N_ANTS, 1)\n",
    "model = Vicsek(PROXIMITY, VELOCITY, UPDATE_RATE, VARIANCE, WINDOW_SIZE)\n",
    "\n",
    "with VideoWriter(FILENAME, WINDOW_SIZE, FRAME_RATE) as vid:\n",
    "    for i in tqdm(range(N_STEPS), desc='Ant Farm'):\n",
    "        x, v = model(x, v)\n",
    "        opacity = ANT_OPACITY*(i/FADE) if i < FADE else ANT_OPACITY*((N_STEPS - i)/FADE) if i > N_STEPS - FADE else ANT_OPACITY\n",
    "        plot(x, size=ANT_SIZE, color=ANT_COLOR, opacity=opacity, winsize=WINDOW_SIZE, facecolor=FARM_COLOR)\n",
    "        vid.write(grab_plot())"
   ]
  },
  {
   "cell_type": "code",
   "execution_count": 16,
   "metadata": {},
   "outputs": [],
   "source": [
    "from ipycanvas import Canvas, hold_canvas\n",
    "from ipywidgets import Output\n",
    "from time import sleep"
   ]
  },
  {
   "cell_type": "code",
   "execution_count": 20,
   "metadata": {},
   "outputs": [
    {
     "data": {
      "application/vnd.jupyter.widget-view+json": {
       "model_id": "9da3263d1f244969a86ebc17b27248bb",
       "version_major": 2,
       "version_minor": 0
      },
      "text/plain": [
       "Output()"
      ]
     },
     "metadata": {},
     "output_type": "display_data"
    }
   ],
   "source": [
    "out = Output()\n",
    "\n",
    "@out.capture()\n",
    "def handle_mouse_down(x, y):\n",
    "    print(\"Mouse down event:\", x, y)\n",
    "\n",
    "display(out)"
   ]
  },
  {
   "cell_type": "code",
   "execution_count": 37,
   "metadata": {},
   "outputs": [
    {
     "data": {
      "application/vnd.jupyter.widget-view+json": {
       "model_id": "b142beb5b02e4a87b3fa9cb5c53bf2fc",
       "version_major": 2,
       "version_minor": 0
      },
      "text/plain": [
       "Canvas(width=500)"
      ]
     },
     "metadata": {},
     "output_type": "display_data"
    },
    {
     "ename": "KeyboardInterrupt",
     "evalue": "",
     "output_type": "error",
     "traceback": [
      "\u001b[0;31m---------------------------------------------------------------------------\u001b[0m",
      "\u001b[0;31mKeyboardInterrupt\u001b[0m                         Traceback (most recent call last)",
      "Cell \u001b[0;32mIn[37], line 47\u001b[0m\n\u001b[1;32m     45\u001b[0m     canvas\u001b[38;5;241m.\u001b[39mfill_circles(\u001b[38;5;241m*\u001b[39mx\u001b[38;5;241m.\u001b[39mT, ANT_SIZE)\n\u001b[1;32m     46\u001b[0m     li\u001b[38;5;241m.\u001b[39mappend(ANT_SIZE)\n\u001b[0;32m---> 47\u001b[0m sleep(\u001b[38;5;241m.02\u001b[39m)\n",
      "\u001b[0;31mKeyboardInterrupt\u001b[0m: "
     ]
    }
   ],
   "source": [
    "N_ANTS = 100\n",
    "PROXIMITY = 20.\n",
    "VELOCITY = 2.5\n",
    "UPDATE_RATE = 1.\n",
    "VARIANCE = .3\n",
    "WINDOW_SIZE = 500\n",
    "ANT_SIZE = 3.\n",
    "ANT_COLOR = 'red'\n",
    "ANT_OPACITY = .15\n",
    "FARM_COLOR = '#1b1f22'\n",
    "N_STEPS = 100\n",
    "FRAME_RATE = 30.\n",
    "FADE = 25\n",
    "\n",
    "out = Output()\n",
    "\n",
    "@out.capture()\n",
    "def handle_mouse_down(x, y):\n",
    "    global ANT_SIZE\n",
    "    ANT_SIZE += 1\n",
    "    print(ANT_SIZE)\n",
    "\n",
    "# display(out)\n",
    "\n",
    "x = np.random.rand(N_ANTS, 2)*WINDOW_SIZE\n",
    "v = 2*np.pi*np.random.rand(N_ANTS, 1)\n",
    "model = Vicsek(PROXIMITY, VELOCITY, UPDATE_RATE, VARIANCE, WINDOW_SIZE)\n",
    "\n",
    "canvas = Canvas(width=WINDOW_SIZE, height=WINDOW_SIZE)\n",
    "canvas.fill_style = FARM_COLOR\n",
    "canvas.fill_rect(0, 0, width=WINDOW_SIZE, height=WINDOW_SIZE)\n",
    "canvas.fill_style = ANT_COLOR\n",
    "canvas.on_mouse_down(handle_mouse_down)\n",
    "display(canvas)\n",
    "\n",
    "li = []\n",
    "\n",
    "while True:\n",
    "    with hold_canvas():\n",
    "        canvas.clear()\n",
    "        x, v = model(x, v)\n",
    "        canvas.fill_style = FARM_COLOR\n",
    "        canvas.fill_rect(0, 0, width=WINDOW_SIZE, height=WINDOW_SIZE)\n",
    "        canvas.fill_style = ANT_COLOR\n",
    "        canvas.fill_circles(*x.T, ANT_SIZE)\n",
    "        li.append(ANT_SIZE)\n",
    "    sleep(.02)"
   ]
  },
  {
   "cell_type": "code",
   "execution_count": 57,
   "metadata": {},
   "outputs": [
    {
     "data": {
      "application/vnd.jupyter.widget-view+json": {
       "model_id": "cf97cc369ce0435e874ac39d7d12a1f9",
       "version_major": 2,
       "version_minor": 0
      },
      "text/plain": [
       "Canvas()"
      ]
     },
     "metadata": {},
     "output_type": "display_data"
    }
   ],
   "source": [
    "n_particles = 1000\n",
    "n_steps = 200\n",
    "\n",
    "canvas = Canvas()\n",
    "display(canvas)\n",
    "\n",
    "x, y = np.random.rayleigh(250, (2, n_particles)).astype(np.int32)\n",
    "size = np.random.randint(1, 3, n_particles)\n",
    "canvas.fill_style = 'red' \n",
    "canvas.fill_circles(x, y, size)\n",
    "\n",
    "for i in range(n_steps):\n",
    "    with hold_canvas():\n",
    "        canvas.clear()\n",
    "\n",
    "        x += 1\n",
    "        canvas.fill_circles(x, y, size)\n",
    "\n",
    "    sleep(.02)"
   ]
  },
  {
   "cell_type": "code",
   "execution_count": 48,
   "metadata": {},
   "outputs": [],
   "source": [
    "n_particles = 1000\n",
    "\n",
    "x, y = np.random.rayleigh(250, (2, n_particles)).astype(np.int32)\n",
    "size = np.random.randint(1, 3, n_particles)\n",
    "canvas.fill_style = 'red' \n",
    "canvas.fill_circles(x, y, size)"
   ]
  },
  {
   "cell_type": "code",
   "execution_count": 47,
   "metadata": {},
   "outputs": [],
   "source": [
    "canvas.clear()"
   ]
  },
  {
   "cell_type": "code",
   "execution_count": null,
   "metadata": {},
   "outputs": [],
   "source": []
  }
 ],
 "metadata": {
  "kernelspec": {
   "display_name": "env",
   "language": "python",
   "name": "python3"
  },
  "language_info": {
   "codemirror_mode": {
    "name": "ipython",
    "version": 3
   },
   "file_extension": ".py",
   "mimetype": "text/x-python",
   "name": "python",
   "nbconvert_exporter": "python",
   "pygments_lexer": "ipython3",
   "version": "3.11.6"
  }
 },
 "nbformat": 4,
 "nbformat_minor": 2
}
