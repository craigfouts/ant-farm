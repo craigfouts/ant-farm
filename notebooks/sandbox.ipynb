{
 "cells": [
  {
   "cell_type": "code",
   "execution_count": 1,
   "metadata": {},
   "outputs": [],
   "source": [
    "import numpy as np\n",
    "import sys\n",
    "from tqdm import tqdm\n",
    "\n",
    "sys.path.append('../src')\n",
    "from models import Vicsek\n",
    "from util import grab_plot, plot, RunTime, VideoWriter"
   ]
  },
  {
   "cell_type": "code",
   "execution_count": 6,
   "metadata": {},
   "outputs": [
    {
     "name": "stderr",
     "output_type": "stream",
     "text": [
      "Ant Farm: 100%|██████████| 500/500 [00:08<00:00, 56.94it/s]\n"
     ]
    },
    {
     "data": {
      "text/html": [
       "<video src=\"_autoplay.mp4\" controls  width=\"500\"  height=\"500\">\n",
       "      Your browser does not support the <code>video</code> element.\n",
       "    </video>"
      ],
      "text/plain": [
       "<IPython.core.display.Video object>"
      ]
     },
     "metadata": {},
     "output_type": "display_data"
    },
    {
     "data": {
      "text/plain": [
       "<Figure size 640x480 with 0 Axes>"
      ]
     },
     "metadata": {},
     "output_type": "display_data"
    }
   ],
   "source": [
    "N_ANTS = 100\n",
    "PROXIMITY = 20.\n",
    "VELOCITY = 2.5\n",
    "UPDATE_RATE = 1.\n",
    "VARIANCE = .3\n",
    "WINDOW_SIZE = 500\n",
    "ANT_SIZE = 10.\n",
    "ANT_COLOR = 'white'\n",
    "ANT_OPACITY = .15\n",
    "FARM_COLOR = '#1b1f22'\n",
    "N_STEPS = 500\n",
    "FILENAME = '_autoplay.mp4'\n",
    "FRAME_RATE = 30.\n",
    "FADE = 25\n",
    "\n",
    "x = np.random.rand(N_ANTS, 2)*WINDOW_SIZE\n",
    "v = 2*np.pi*np.random.rand(N_ANTS, 1)\n",
    "model = Vicsek(PROXIMITY, VELOCITY, UPDATE_RATE, VARIANCE, WINDOW_SIZE)\n",
    "\n",
    "with VideoWriter(FILENAME, WINDOW_SIZE, FRAME_RATE) as vid:\n",
    "    for i in tqdm(range(N_STEPS), desc='Ant Farm'):\n",
    "        x, v = model(x, v)\n",
    "        opacity = ANT_OPACITY*(i/FADE) if i < FADE else ANT_OPACITY*((N_STEPS - i)/FADE) if i > N_STEPS - FADE else ANT_OPACITY\n",
    "        plot(x, size=ANT_SIZE, color=ANT_COLOR, opacity=opacity, winsize=WINDOW_SIZE, facecolor=FARM_COLOR)\n",
    "        vid.write(grab_plot())"
   ]
  },
  {
   "cell_type": "code",
   "execution_count": 2,
   "metadata": {},
   "outputs": [],
   "source": [
    "from ipycanvas import Canvas, hold_canvas\n",
    "from ipywidgets import HTML, Output\n",
    "from time import sleep\n",
    "from threading import Timer"
   ]
  },
  {
   "cell_type": "code",
   "execution_count": 7,
   "metadata": {},
   "outputs": [
    {
     "data": {
      "application/vnd.jupyter.widget-view+json": {
       "model_id": "830d26f02a1442eca80b1de6ce856b8c",
       "version_major": 2,
       "version_minor": 0
      },
      "text/plain": [
       "Canvas(width=500)"
      ]
     },
     "metadata": {},
     "output_type": "display_data"
    }
   ],
   "source": [
    "N_ANTS = 100\n",
    "PROXIMITY = 20.\n",
    "VELOCITY = 2.5\n",
    "UPDATE_RATE = 1.\n",
    "VARIANCE = .3\n",
    "WINDOW_SIZE = 500\n",
    "ANT_SIZE = 3.\n",
    "ANT_COLOR = 'red'\n",
    "ANT_OPACITY = .15\n",
    "FARM_COLOR = '#1b1f22'\n",
    "N_STEPS = 100\n",
    "FRAME_RATE = 30.\n",
    "FADE = 25\n",
    "\n",
    "def draw(x):\n",
    "    with hold_canvas():\n",
    "        canvas.clear()\n",
    "        canvas.fill_style = FARM_COLOR\n",
    "        canvas.fill_rect(0, 0, width=WINDOW_SIZE, height=WINDOW_SIZE)\n",
    "        canvas.fill_style = ANT_COLOR\n",
    "        canvas.fill_circles(*x.T, ANT_SIZE)\n",
    "\n",
    "def update():\n",
    "    global x, v\n",
    "    x, v = model(x, v)\n",
    "    draw(x)\n",
    "\n",
    "def toggle(*_):\n",
    "    global rt\n",
    "    if rt.running:\n",
    "        rt.stop()\n",
    "    else:\n",
    "        rt.start()\n",
    "\n",
    "def start():\n",
    "    global rt\n",
    "    try:\n",
    "        rt.stop()\n",
    "    except:\n",
    "        pass\n",
    "    rt = RunTime(update)\n",
    "\n",
    "x = np.random.rand(N_ANTS, 2)*WINDOW_SIZE\n",
    "v = 2*np.pi*np.random.rand(N_ANTS, 1)\n",
    "model = Vicsek(PROXIMITY, VELOCITY, UPDATE_RATE, VARIANCE, WINDOW_SIZE)\n",
    "canvas = Canvas(width=WINDOW_SIZE, height=WINDOW_SIZE)\n",
    "canvas.on_mouse_down(toggle)\n",
    "\n",
    "display(canvas)\n",
    "draw(x)\n",
    "start()"
   ]
  },
  {
   "cell_type": "code",
   "execution_count": null,
   "metadata": {},
   "outputs": [],
   "source": []
  }
 ],
 "metadata": {
  "kernelspec": {
   "display_name": "env",
   "language": "python",
   "name": "python3"
  },
  "language_info": {
   "codemirror_mode": {
    "name": "ipython",
    "version": 3
   },
   "file_extension": ".py",
   "mimetype": "text/x-python",
   "name": "python",
   "nbconvert_exporter": "python",
   "pygments_lexer": "ipython3",
   "version": "3.10.6"
  }
 },
 "nbformat": 4,
 "nbformat_minor": 2
}
