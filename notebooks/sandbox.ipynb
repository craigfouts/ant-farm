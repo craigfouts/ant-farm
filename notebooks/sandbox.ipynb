{
 "cells": [
  {
   "cell_type": "code",
   "execution_count": 3,
   "metadata": {},
   "outputs": [],
   "source": [
    "import numpy as np\n",
    "import sys\n",
    "from ipycanvas import Canvas\n",
    "from tqdm import tqdm\n",
    "sys.path.append('../src')\n",
    "from util import draw, grab_plot, plot, RunTime, VideoWriter"
   ]
  },
  {
   "cell_type": "code",
   "execution_count": 4,
   "metadata": {},
   "outputs": [],
   "source": [
    "from ipycanvas import hold_canvas"
   ]
  },
  {
   "cell_type": "code",
   "execution_count": null,
   "metadata": {},
   "outputs": [],
   "source": [
    "def update():\n",
    "    global farm, canvas, x, v, a\n",
    "\n",
    "    x, v = farm(x, v, a)\n",
    "    draw(x, canvas, CANVAS_SIZE, ant_size=5)"
   ]
  },
  {
   "cell_type": "code",
   "execution_count": null,
   "metadata": {},
   "outputs": [],
   "source": [
    "class Studio:\n",
    "    def __init__(self, model, interval=.02, **kwargs):\n",
    "        self.model = model(**kwargs)\n",
    "        self.interval = interval\n",
    "\n",
    "        self.timer = None\n",
    "        self.running = False\n",
    "\n",
    "    def step(self):\n",
    "        self.running = False\n",
    "        self.start()\n",
    "        self.model()\n",
    "        \n",
    "    def update(self):\n",
    "        pass\n",
    "\n",
    "    def start(self):\n",
    "        display(self.canvas)\n",
    "\n",
    "        if self.runtime is not None:\n",
    "            self.runtime.stop()\n",
    "\n",
    "        self.runtime = RunTime(self.update, self.interval)"
   ]
  },
  {
   "cell_type": "code",
   "execution_count": null,
   "metadata": {},
   "outputs": [],
   "source": [
    "def draw_rect(farm, xy, width, height, color):\n",
    "    fill_style = farm.fill_style\n",
    "    farm.fill_style = color\n",
    "    farm.fill_rect(*xy, width, height)\n",
    "    farm.fill_style = fill_style\n",
    "\n",
    "def draw_rects(farm, xy, width, height, color):\n",
    "    fill_style = farm.fill_style\n",
    "    farm.fill_style = color\n",
    "    farm.fill_rects(*xy.T, width, height)\n",
    "    farm.fill_style = fill_style\n",
    "\n",
    "def draw(farm, ants, walls=None, farm_size=500, farm_color='green', ant_size=5., ant_color='red', wall_color='white'):\n",
    "    with hold_canvas():\n",
    "        farm.clear()\n",
    "        farm.fill_style = 'red'\n",
    "        draw_rect(farm, (0, 0), farm_size, farm_size, farm_color)\n",
    "        # farm.fill_style = ant_color\n",
    "        farm.fill_circles(*ants.T, ant_size)\n",
    "        \n",
    "        # if walls is not None:\n",
    "        #     # farm.fill_style = wall_color\n",
    "        #     farm.fill_styled_rects(*walls.T, color=wall_color)"
   ]
  },
  {
   "cell_type": "code",
   "execution_count": 8,
   "metadata": {},
   "outputs": [
    {
     "data": {
      "application/vnd.jupyter.widget-view+json": {
       "model_id": "45fab9b11a5842c99821a3be931c1bcb",
       "version_major": 2,
       "version_minor": 0
      },
      "text/plain": [
       "Canvas(width=500)"
      ]
     },
     "metadata": {},
     "output_type": "display_data"
    }
   ],
   "source": [
    "FARM_SIZE = 500\n",
    "N_ANTS = 10\n",
    "\n",
    "farm = Canvas(width=FARM_SIZE, height=FARM_SIZE)\n",
    "# ants = .5*FARM_SIZE*np.ones((N_ANTS, 2))\n",
    "ants = FARM_SIZE*np.random.random((N_ANTS, 2))\n",
    "walls = np.array([[0, 10, 50, 10]])\n",
    "\n",
    "draw(farm, ants, walls)\n",
    "display(farm)"
   ]
  },
  {
   "cell_type": "code",
   "execution_count": 2,
   "metadata": {},
   "outputs": [],
   "source": [
    "CANVAS_SIZE = 500\n",
    "\n",
    "def update():\n",
    "    global farm, canvas, x, v, a\n",
    "\n",
    "    x, v = farm(x, v, a)\n",
    "    draw(x, canvas, CANVAS_SIZE, ant_size=5)\n",
    "\n",
    "def toggle(*_):\n",
    "    global runtime \n",
    "\n",
    "    if runtime.running:\n",
    "        runtime.stop()\n",
    "    else:\n",
    "        runtime.start()\n",
    "\n",
    "def simulate(function, interval=.02):\n",
    "    global runtime, canvas, x\n",
    "\n",
    "    display(canvas)\n",
    "    draw(x, canvas, CANVAS_SIZE, ant_size=5)\n",
    "\n",
    "    try:\n",
    "        runtime.stop()\n",
    "    except:\n",
    "        pass\n",
    "\n",
    "    runtime = RunTime(function, interval)\n",
    "\n",
    "def record(n_steps=500):\n",
    "    global farm, x, v\n",
    "\n",
    "    with VideoWriter(size=CANVAS_SIZE) as vid:\n",
    "        for _ in tqdm(range(n_steps), desc='Ant Farm'):\n",
    "            plot(x)\n",
    "            vid.write(grab_plot())\n",
    "            x, v = farm(x, v)"
   ]
  },
  {
   "cell_type": "code",
   "execution_count": 3,
   "metadata": {},
   "outputs": [],
   "source": [
    "\n",
    "\n",
    "class KinematicsFarm:\n",
    "    def __init__(self, dt=.2, dv=.85, figsize=500):\n",
    "        self.dt = dt\n",
    "        self.dv = dv\n",
    "        self.figsize = figsize\n",
    "\n",
    "    def __call__(self, x, v, a):\n",
    "        in_wall = False\n",
    "\n",
    "        for i in range(x.shape[0]):\n",
    "            if x[i, 0] > self.figsize - 5.:\n",
    "                v[i, 0] = -self.dv*np.abs(v[i, 0])\n",
    "                v[i, 1] = self.dv*v[i, 1]\n",
    "                in_wall = True\n",
    "            elif x[i, 0] < 5.:\n",
    "                v[i, 0] = self.dv*np.abs(v[i, 0])\n",
    "                v[i, 1] = self.dv*v[i, 1]\n",
    "                in_wall = True\n",
    "            else:\n",
    "                v[i, 0] = v[i, 0] + a[i, 0]*self.dt\n",
    "                \n",
    "            if x[i, 1] > self.figsize - 5.:\n",
    "                v[i, 0] = self.dv*v[i, 0]\n",
    "                v[i, 1] = -self.dv*np.abs(v[i, 1])\n",
    "                in_wall = True\n",
    "            elif x[i, 1] < 5.:\n",
    "                v[i, 0] = self.dv*v[i, 0]\n",
    "                v[i, 1] = self.dv*np.abs(v[i, 1])\n",
    "                in_wall = True\n",
    "            else:\n",
    "                v[i, 1] = v[i, 1] + a[i, 1]*self.dt\n",
    "\n",
    "        x = x + v*self.dt + (not in_wall)*.5*self.dt**2\n",
    "\n",
    "        return x, v"
   ]
  },
  {
   "cell_type": "code",
   "execution_count": 5,
   "metadata": {},
   "outputs": [
    {
     "data": {
      "text/plain": [
       "array([[[  0,   0],\n",
       "        [  0, 500]],\n",
       "\n",
       "       [[  0,   0],\n",
       "        [500,   0]],\n",
       "\n",
       "       [[  0, 500],\n",
       "        [500, 500]],\n",
       "\n",
       "       [[500,   0],\n",
       "        [500, 500]]])"
      ]
     },
     "execution_count": 5,
     "metadata": {},
     "output_type": "execute_result"
    }
   ],
   "source": [
    "walls = np.array([[[0, 0], [0, CANVAS_SIZE]],\n",
    "                  [[0, 0], [CANVAS_SIZE, 0]],\n",
    "                  [[0, CANVAS_SIZE], [CANVAS_SIZE, CANVAS_SIZE]],\n",
    "                  [[CANVAS_SIZE, 0], [CANVAS_SIZE, CANVAS_SIZE]]])\n",
    "\n",
    "walls\n",
    "\n",
    "# check if line from current position to next intersects with wall"
   ]
  },
  {
   "cell_type": "code",
   "execution_count": 5,
   "metadata": {},
   "outputs": [],
   "source": [
    "x1 = x\n",
    "x2 = x + v*.1"
   ]
  },
  {
   "cell_type": "code",
   "execution_count": 6,
   "metadata": {},
   "outputs": [
    {
     "data": {
      "text/plain": [
       "array([[224.869024  , 369.69056063],\n",
       "       [ 37.87564677, 443.3471494 ],\n",
       "       [157.83075586, 235.04619621],\n",
       "       [301.9314621 , 178.07428411],\n",
       "       [ 89.44501709, 495.95509503],\n",
       "       [143.42016353, 461.82559717],\n",
       "       [112.74599102, 135.96848178],\n",
       "       [160.28096807, 140.27126248],\n",
       "       [238.56430762, 146.25168234],\n",
       "       [192.18344342, 158.77601788]])"
      ]
     },
     "execution_count": 6,
     "metadata": {},
     "output_type": "execute_result"
    }
   ],
   "source": [
    "x1"
   ]
  },
  {
   "cell_type": "code",
   "execution_count": 7,
   "metadata": {},
   "outputs": [
    {
     "data": {
      "text/plain": [
       "array([[224.28786546, 374.45880064],\n",
       "       [ 33.04463874, 449.7894028 ],\n",
       "       [155.72600031, 236.75433703],\n",
       "       [303.1017226 , 178.48760875],\n",
       "       [ 85.78604021, 503.59298356],\n",
       "       [140.98789452, 468.68781529],\n",
       "       [109.61658173, 135.42485637],\n",
       "       [158.23189916, 139.82542754],\n",
       "       [238.29440552, 145.94176603],\n",
       "       [190.85943077, 158.75074556]])"
      ]
     },
     "execution_count": 7,
     "metadata": {},
     "output_type": "execute_result"
    }
   ],
   "source": [
    "x2"
   ]
  },
  {
   "cell_type": "code",
   "execution_count": 4,
   "metadata": {},
   "outputs": [
    {
     "data": {
      "application/vnd.jupyter.widget-view+json": {
       "model_id": "747de79e630f4016b821fb64f48f1195",
       "version_major": 2,
       "version_minor": 0
      },
      "text/plain": [
       "Canvas(width=500)"
      ]
     },
     "metadata": {},
     "output_type": "display_data"
    }
   ],
   "source": [
    "N_ANTS = 10\n",
    "\n",
    "farm = KinematicsFarm(figsize=CANVAS_SIZE)\n",
    "x = .5*CANVAS_SIZE*np.ones((N_ANTS, 2))\n",
    "# v = np.zeros_like(x)\n",
    "v = -100.*np.random.random(x.shape) + 50.\n",
    "a = np.array([[0., 9.8],]*N_ANTS)\n",
    "canvas = Canvas(width=CANVAS_SIZE, height=CANVAS_SIZE)\n",
    "canvas.on_mouse_down(toggle)\n",
    "\n",
    "simulate(update)"
   ]
  },
  {
   "cell_type": "code",
   "execution_count": null,
   "metadata": {},
   "outputs": [],
   "source": []
  }
 ],
 "metadata": {
  "kernelspec": {
   "display_name": "env",
   "language": "python",
   "name": "python3"
  },
  "language_info": {
   "codemirror_mode": {
    "name": "ipython",
    "version": 3
   },
   "file_extension": ".py",
   "mimetype": "text/x-python",
   "name": "python",
   "nbconvert_exporter": "python",
   "pygments_lexer": "ipython3",
   "version": "3.9.6"
  }
 },
 "nbformat": 4,
 "nbformat_minor": 2
}
