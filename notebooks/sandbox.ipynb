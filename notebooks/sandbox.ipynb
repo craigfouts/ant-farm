{
 "cells": [
  {
   "cell_type": "code",
   "execution_count": 1,
   "metadata": {},
   "outputs": [],
   "source": [
    "import numpy as np\n",
    "import sys\n",
    "from ipycanvas import hold_canvas, Canvas\n",
    "\n",
    "sys.path.append('../src')\n",
    "from models import Vicsek\n",
    "from util import RunTime"
   ]
  },
  {
   "cell_type": "code",
   "execution_count": 2,
   "metadata": {},
   "outputs": [],
   "source": [
    "CANVAS_SIZE = 500\n",
    "FARM_COLOR = '#1b1f22'\n",
    "ANT_COLOR = 'red'\n",
    "ANT_SIZE = 3.\n",
    "\n",
    "def draw(x, canvas, canvas_size=500, farm_color='#1b1f22', ant_color='red', ant_size=3.):\n",
    "    ants = np.unique(x[:, 0]).astype(np.int32)\n",
    "\n",
    "    with hold_canvas():\n",
    "        canvas.clear()\n",
    "        canvas.fill_style = farm_color\n",
    "        canvas.fill_rect(0, 0, width=canvas_size, height=canvas_size)\n",
    "\n",
    "        for ant in ants:\n",
    "            canvas.fill_style = ['red', 'blue', 'green', 'yellow'][ant - 1]\n",
    "            canvas.fill_circles(*x[x[:, 0] == ant, 1:].T, ant_size)\n",
    "\n",
    "def update():\n",
    "    global model, canvas, x, v\n",
    "    \n",
    "    x[:, 1:], v = model(x[:, 1:], v)\n",
    "    draw(x, canvas, CANVAS_SIZE, FARM_COLOR, ANT_COLOR, ANT_SIZE)\n",
    "\n",
    "def toggle(*_):\n",
    "    global runtime\n",
    "\n",
    "    if runtime.running:\n",
    "        runtime.stop()\n",
    "    else:\n",
    "        runtime.start()\n",
    "\n",
    "def start(function, interval=.02):\n",
    "    global runtime\n",
    "\n",
    "    try:\n",
    "        runtime.stop()\n",
    "    except:\n",
    "        pass\n",
    "\n",
    "    runtime = RunTime(function, interval)"
   ]
  },
  {
   "cell_type": "code",
   "execution_count": 3,
   "metadata": {},
   "outputs": [],
   "source": [
    "class Vicsek2:\n",
    "    def __init__(self, proximity=20., velocity=3., update_rate=1., variance=.3, canvas_size=500):\n",
    "        self.proximity = proximity\n",
    "        self.velocity = velocity\n",
    "        self.update_rate = update_rate\n",
    "        self.variance = variance\n",
    "        self.canvas_size = canvas_size\n",
    "\n",
    "    def __call__(self, x, v):\n",
    "        ants = np.unique(x[:, 0])\n",
    "\n",
    "        for ant in ants:\n",
    "            friends, enemies = x[:, 0] == ant, x[:, 0] != ant\n",
    "            neighborhood = (np.sqrt(np.square(x[:, 1:][:, None] - x[:, 1:][None, :])).sum(-1) < self.proximity).astype(np.int32)\n",
    "            neighborhood[:, enemies] = -1*neighborhood[:, enemies]\n",
    "            uncertainty = np.random.normal(0, self.variance, size=v[friends].shape)\n",
    "            v[friends] = (neighborhood[friends]@v)/np.abs(neighborhood[friends]).sum(-1)[:, None] + uncertainty\n",
    "            alignment = np.hstack([np.cos(v[friends]), np.sin(v[friends])])\n",
    "            x[friends, 1:] = (x[friends, 1:] + self.velocity*self.update_rate*alignment)%(self.canvas_size)\n",
    "\n",
    "        return x, v"
   ]
  },
  {
   "cell_type": "code",
   "execution_count": 4,
   "metadata": {},
   "outputs": [
    {
     "data": {
      "application/vnd.jupyter.widget-view+json": {
       "model_id": "ba3bc17de6a34ade895330c0b3d353cd",
       "version_major": 2,
       "version_minor": 0
      },
      "text/plain": [
       "Canvas(width=500)"
      ]
     },
     "metadata": {},
     "output_type": "display_data"
    }
   ],
   "source": [
    "N_ANTS = 500\n",
    "PROXIMITY = 20.\n",
    "VELOCITY = 2.\n",
    "UPDATE_RATE = 1.\n",
    "VARIANCE = .2\n",
    "\n",
    "x1 = np.hstack([1*np.ones((N_ANTS//4, 1)), np.random.rand(N_ANTS//4, 2)*CANVAS_SIZE])\n",
    "x2 = np.hstack([2*np.ones((N_ANTS//4, 1)), np.random.rand(N_ANTS//4, 2)*CANVAS_SIZE])\n",
    "x3 = np.hstack([3*np.ones((N_ANTS//4, 1)), np.random.rand(N_ANTS//4, 2)*CANVAS_SIZE])\n",
    "x4 = np.hstack([4*np.ones((N_ANTS//4, 1)), np.random.rand(N_ANTS//4, 2)*CANVAS_SIZE])\n",
    "x = np.vstack([x1, x2, x3, x4])\n",
    "v = 2*np.pi*np.random.rand(N_ANTS, 1)\n",
    "model = Vicsek(PROXIMITY, VELOCITY, UPDATE_RATE, VARIANCE, CANVAS_SIZE)\n",
    "canvas = Canvas(width=CANVAS_SIZE, height=CANVAS_SIZE)\n",
    "canvas.on_mouse_down(toggle)\n",
    "\n",
    "display(canvas)\n",
    "draw(x, canvas, CANVAS_SIZE, FARM_COLOR, ANT_COLOR, ANT_SIZE)\n",
    "start(update)"
   ]
  },
  {
   "cell_type": "code",
   "execution_count": null,
   "metadata": {},
   "outputs": [],
   "source": []
  }
 ],
 "metadata": {
  "kernelspec": {
   "display_name": "env",
   "language": "python",
   "name": "python3"
  },
  "language_info": {
   "codemirror_mode": {
    "name": "ipython",
    "version": 3
   },
   "file_extension": ".py",
   "mimetype": "text/x-python",
   "name": "python",
   "nbconvert_exporter": "python",
   "pygments_lexer": "ipython3",
   "version": "3.11.6"
  }
 },
 "nbformat": 4,
 "nbformat_minor": 2
}
