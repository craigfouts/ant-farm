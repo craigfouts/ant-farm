{
 "cells": [
  {
   "cell_type": "code",
   "execution_count": 11,
   "metadata": {},
   "outputs": [],
   "source": [
    "import numpy as np\n",
    "import sys\n",
    "from ipycanvas import Canvas\n",
    "from tqdm import tqdm\n",
    "sys.path.append('../src')\n",
    "from util import draw, grab_plot, plot, RunTime, VideoWriter"
   ]
  },
  {
   "cell_type": "code",
   "execution_count": 83,
   "metadata": {},
   "outputs": [],
   "source": [
    "CANVAS_SIZE = 500\n",
    "\n",
    "def update():\n",
    "    global farm, canvas, x, v, a\n",
    "\n",
    "    x, v = farm(x, v, a)\n",
    "    draw(x, canvas, CANVAS_SIZE, ant_size=10)\n",
    "\n",
    "def toggle(*_):\n",
    "    global runtime \n",
    "\n",
    "    if runtime.running:\n",
    "        runtime.stop()\n",
    "    else:\n",
    "        runtime.start()\n",
    "\n",
    "def simulate(function, interval=.02):\n",
    "    global runtime, canvas, x\n",
    "\n",
    "    display(canvas)\n",
    "    draw(x, canvas, CANVAS_SIZE, ant_size=10)\n",
    "\n",
    "    try:\n",
    "        runtime.stop()\n",
    "    except:\n",
    "        pass\n",
    "\n",
    "    runtime = RunTime(function, interval)\n",
    "\n",
    "def record(n_steps=500):\n",
    "    global farm, x, v\n",
    "\n",
    "    with VideoWriter(size=CANVAS_SIZE) as vid:\n",
    "        for _ in tqdm(range(n_steps), desc='Ant Farm'):\n",
    "            plot(x)\n",
    "            vid.write(grab_plot())\n",
    "            x, v = farm(x, v)"
   ]
  },
  {
   "cell_type": "code",
   "execution_count": 84,
   "metadata": {},
   "outputs": [],
   "source": [
    "class SandboxFarm:\n",
    "    def __init__(self, dt=.1, figsize=500):\n",
    "        self.dt = dt\n",
    "        self.figsize = figsize\n",
    "\n",
    "    def __call__(self, x, v, a):\n",
    "        v = v + a*self.dt\n",
    "\n",
    "        for i in range(x.shape[0]):\n",
    "            if x[i, 1] >= self.figsize - 5.:\n",
    "                v[i, 1] = -.9*v[i, 1]\n",
    "\n",
    "        x = (x + v*self.dt + .5*a*self.dt**2)%self.figsize\n",
    "        \n",
    "        return x, v"
   ]
  },
  {
   "cell_type": "code",
   "execution_count": 86,
   "metadata": {},
   "outputs": [
    {
     "data": {
      "application/vnd.jupyter.widget-view+json": {
       "model_id": "5a9ac7f8db8f4980b7f30b69e304eded",
       "version_major": 2,
       "version_minor": 0
      },
      "text/plain": [
       "Canvas(width=500)"
      ]
     },
     "metadata": {},
     "output_type": "display_data"
    }
   ],
   "source": [
    "N_ANTS = 1\n",
    "\n",
    "farm = SandboxFarm(figsize=CANVAS_SIZE)\n",
    "x = .5*CANVAS_SIZE*np.ones((N_ANTS, 2))\n",
    "v = np.zeros_like(x)\n",
    "a = np.array([[0., 9.8],]*N_ANTS)\n",
    "canvas = Canvas(width=CANVAS_SIZE, height=CANVAS_SIZE)\n",
    "canvas.on_mouse_down(toggle)\n",
    "\n",
    "simulate(update)"
   ]
  },
  {
   "cell_type": "code",
   "execution_count": null,
   "metadata": {},
   "outputs": [],
   "source": []
  }
 ],
 "metadata": {
  "kernelspec": {
   "display_name": "env",
   "language": "python",
   "name": "python3"
  },
  "language_info": {
   "codemirror_mode": {
    "name": "ipython",
    "version": 3
   },
   "file_extension": ".py",
   "mimetype": "text/x-python",
   "name": "python",
   "nbconvert_exporter": "python",
   "pygments_lexer": "ipython3",
   "version": "3.9.6"
  }
 },
 "nbformat": 4,
 "nbformat_minor": 2
}
